{
 "metadata": {
  "name": "",
  "signature": "sha256:3e11ab4bcf00f92659df5d265a466276f98aa9c4bf742d87731cf7ff73504c35"
 },
 "nbformat": 3,
 "nbformat_minor": 0,
 "worksheets": [
  {
   "cells": [
    {
     "cell_type": "code",
     "collapsed": false,
     "input": [
      "from applets.base import ContextGreenlet\n",
      "from applets import get_from_context"
     ],
     "language": "python",
     "metadata": {},
     "outputs": [],
     "prompt_number": 1
    },
    {
     "cell_type": "code",
     "collapsed": false,
     "input": [],
     "language": "python",
     "metadata": {},
     "outputs": []
    }
   ],
   "metadata": {}
  }
 ]
}