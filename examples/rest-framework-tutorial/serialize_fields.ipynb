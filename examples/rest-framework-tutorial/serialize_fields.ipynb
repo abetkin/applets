{
 "metadata": {
  "name": "",
  "signature": "sha256:7eeda1785276b7e444f141c5600dc052b72caf37680460c2c01619dfc3c72a49"
 },
 "nbformat": 3,
 "nbformat_minor": 0,
 "worksheets": [
  {
   "cells": [
    {
     "cell_type": "code",
     "collapsed": false,
     "input": [
      "import os\n",
      "os.environ['DJANGO_SETTINGS_MODULE'] = 'tutorial.settings'\n",
      "import django\n",
      "django.setup()"
     ],
     "language": "python",
     "metadata": {},
     "outputs": [],
     "prompt_number": 1
    },
    {
     "cell_type": "code",
     "collapsed": false,
     "input": [
      "import gcontext as g\n",
      "from collections import Mapping\n",
      "from rest_framework import serializers\n",
      "\n",
      "_context = property(lambda self: get_context(), lambda self, value: None)\n",
      "\n",
      "\n",
      "class SerializerError(Exception):\n",
      "    pass\n",
      "\n",
      "class ListSerializer(serializers.ListSerializer):\n",
      "    _context = _context\n",
      "    \n",
      "class MySerializer(serializers.Serializer):\n",
      "    _context = _context\n",
      "    \n",
      "    @classmethod\n",
      "    def serialize(cls, obj=None):\n",
      "        if obj is None:\n",
      "            obj = get_context()['object']\n",
      "        serializer = cls(obj)\n",
      "        capture = g.method.as_manager\n",
      "        with capture(serializer):\n",
      "            return serializer.data\n",
      "    \n",
      "    @classmethod\n",
      "    def deserialize(cls, data=None):\n",
      "        if data is None:\n",
      "            data = self._context['request'].QUERY_PARAMS\n",
      "        serializer = cls(data=data)\n",
      "        capture = g.method.as_manager # adds the first passed argument to context\n",
      "        with capture(serializer):\n",
      "            if serializer.is_valid():\n",
      "                return serializer.data\n",
      "            raise Exception(s.errors)\n",
      "        \n",
      "    class Meta:\n",
      "        list_serializer_class = ListSerializer\n",
      "\n",
      "\n",
      "            "
     ],
     "language": "python",
     "metadata": {},
     "outputs": [],
     "prompt_number": 11
    },
    {
     "cell_type": "code",
     "collapsed": false,
     "input": [
      "class Fields(MySerializer):\n",
      "    name = serializers.CharField()\n",
      "    age = serializers.IntegerField()"
     ],
     "language": "python",
     "metadata": {},
     "outputs": [],
     "prompt_number": 12
    },
    {
     "cell_type": "code",
     "collapsed": false,
     "input": [
      "Fields.deserialize(data={'name': 'John', 'age': 32})"
     ],
     "language": "python",
     "metadata": {},
     "outputs": [
      {
       "metadata": {},
       "output_type": "pyout",
       "prompt_number": 13,
       "text": [
        "ReturnDict([('name', 'John'), ('age', 32)])"
       ]
      }
     ],
     "prompt_number": 13
    },
    {
     "cell_type": "code",
     "collapsed": false,
     "input": [
      "_4.data"
     ],
     "language": "python",
     "metadata": {},
     "outputs": [
      {
       "metadata": {},
       "output_type": "pyout",
       "prompt_number": 7,
       "text": [
        "ReturnDict([('name', 'John'), ('age', 32)])"
       ]
      }
     ],
     "prompt_number": 7
    },
    {
     "cell_type": "code",
     "collapsed": false,
     "input": [],
     "language": "python",
     "metadata": {},
     "outputs": []
    }
   ],
   "metadata": {}
  }
 ]
}