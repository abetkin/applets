{
 "metadata": {
  "name": "",
  "signature": "sha256:86e3dc2662a89889a588da07880fc12f8dac1434f997a8c3d6ac749243827a0d"
 },
 "nbformat": 3,
 "nbformat_minor": 0,
 "worksheets": [
  {
   "cells": [
    {
     "cell_type": "code",
     "collapsed": false,
     "input": [
      "class A:\n",
      "    def say(self):\n",
      "        return 1\n",
      "\n",
      "class B(A):\n",
      "    def say(self):\n",
      "        return 2"
     ],
     "language": "python",
     "metadata": {},
     "outputs": [],
     "prompt_number": 1
    },
    {
     "cell_type": "code",
     "collapsed": false,
     "input": [
      "o = B()"
     ],
     "language": "python",
     "metadata": {},
     "outputs": [],
     "prompt_number": 3
    },
    {
     "cell_type": "code",
     "collapsed": false,
     "input": [
      "getattr(super(B, o), 'say')()"
     ],
     "language": "python",
     "metadata": {},
     "outputs": [
      {
       "metadata": {},
       "output_type": "pyout",
       "prompt_number": 5,
       "text": [
        "1"
       ]
      }
     ],
     "prompt_number": 5
    },
    {
     "cell_type": "code",
     "collapsed": false,
     "input": [
      "stopat(AP, 'say')\n",
      "\n",
      "@stopat('...')\n",
      "def post_save(self, obj):\n",
      "    1\n",
      "\n",
      "class View:\n",
      "    \n",
      "    def __call__(self):\n",
      "        self.run_inplace(Serializer.deserialize)"
     ],
     "language": "python",
     "metadata": {},
     "outputs": []
    },
    {
     "cell_type": "code",
     "collapsed": false,
     "input": [
      "meth, *args = stop_at(Serializer.deserialize)\n",
      "method = getattr(super(Serializer, meth.__self__), meth.__func__.__name__)\n",
      "superm(Serializer, meth)(*args)"
     ],
     "language": "python",
     "metadata": {},
     "outputs": []
    },
    {
     "cell_type": "code",
     "collapsed": false,
     "input": [
      "from collections import namedtuple\n",
      "UnboundMethod = namedtuple('UnboundMethod', ['klass', 'attr'])\n",
      "\n",
      "class export:\n",
      "    def __init__(self, f):\n",
      "        self.func = f\n",
      "    \n",
      "    def __get__(self, instance, owner):\n",
      "        if instance is not None:\n",
      "            return self.func.__get__(instance)\n",
      "        return UnboundMethod(owner, self.func.__name__)\n",
      "        \n",
      "    \n",
      "\n",
      "class Unit:\n",
      "    \n",
      "    @export\n",
      "    def meth(self):\n",
      "        return 1"
     ],
     "language": "python",
     "metadata": {},
     "outputs": [],
     "prompt_number": 10
    },
    {
     "cell_type": "code",
     "collapsed": false,
     "input": [
      "Unit().meth"
     ],
     "language": "python",
     "metadata": {},
     "outputs": [
      {
       "metadata": {},
       "output_type": "pyout",
       "prompt_number": 13,
       "text": [
        "<bound method Unit.meth of <__main__.Unit object at 0x7f129474acc0>>"
       ]
      }
     ],
     "prompt_number": 13
    },
    {
     "cell_type": "code",
     "collapsed": false,
     "input": [],
     "language": "python",
     "metadata": {},
     "outputs": []
    }
   ],
   "metadata": {}
  }
 ]
}