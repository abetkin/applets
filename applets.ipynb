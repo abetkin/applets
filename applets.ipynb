{
 "metadata": {
  "name": "",
  "signature": "sha256:610e3787a637d34d8ed859b6581854527b0422f8a193a82c7b3384351ef95aeb"
 },
 "nbformat": 3,
 "nbformat_minor": 0,
 "worksheets": [
  {
   "cells": [
    {
     "cell_type": "code",
     "collapsed": false,
     "input": [
      "import greenlet\n",
      "from functools import wraps\n",
      "\n",
      "\n",
      "def green(f):\n",
      "    @wraps(f)\n",
      "    def wrapper(*args, **kw):\n",
      "        g = greenlet.greenlet(f)\n",
      "        return g.switch(*args, **kw)\n",
      "    return wrapper\n",
      "\n",
      "g = greenlet.getcurrent()\n",
      "\n",
      "class A:\n",
      "    \n",
      "    @green\n",
      "    def run(self, a):\n",
      "        import ipdb\n",
      "        ipdb.set_trace()\n",
      "        assert greenlet.getcurrent().parent is g\n",
      "        return a"
     ],
     "language": "python",
     "metadata": {},
     "outputs": [],
     "prompt_number": 1
    },
    {
     "cell_type": "code",
     "collapsed": false,
     "input": [
      "o = A()\n",
      "\n",
      "o.run(3)"
     ],
     "language": "python",
     "metadata": {},
     "outputs": [
      {
       "name": "stdout",
       "output_type": "stream",
       "stream": "stdout",
       "text": [
        "ipdb> w\n"
       ]
      }
     ]
    },
    {
     "cell_type": "code",
     "collapsed": false,
     "input": [
      "def view(req):\n",
      "    ctx = get_context()\n",
      "    ser = Ser(data=req.DATA)\n",
      "    ser.context = get_context()\n",
      "    if ser.is_valid():\n",
      "        ser.object"
     ],
     "language": "python",
     "metadata": {},
     "outputs": [
      {
       "metadata": {},
       "output_type": "pyout",
       "prompt_number": 8,
       "text": [
        "<bound method A.run of <__main__.A object at 0x7f0a0448a860>>"
       ]
      }
     ],
     "prompt_number": 8
    },
    {
     "cell_type": "code",
     "collapsed": false,
     "input": [
      "with shared('declared'):\n",
      "    ser = Ser(data=req.DATA)\n",
      "    if ser.is_valid():\n",
      "        obj = ser.object"
     ],
     "language": "python",
     "metadata": {},
     "outputs": []
    }
   ],
   "metadata": {}
  }
 ]
}